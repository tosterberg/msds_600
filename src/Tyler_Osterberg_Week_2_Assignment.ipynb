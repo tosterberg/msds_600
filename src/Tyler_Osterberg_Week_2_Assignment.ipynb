{
 "cells": [
  {
   "cell_type": "markdown",
   "metadata": {},
   "source": [
    "# Assignment\n",
    "\n",
    "Use the \"from the expert\" (FTE) jupyter notebook as a starter for this assignment, and ask your instructor questions if you need help.\n",
    "\n",
    "Use the `churn_data.csv` file to carry out a similar data cleaning and preparation as we did in the FTE. Specifically, at least complete these minimum requirements:\n",
    "\n",
    "- Check for outliers in numeric data, and deal with them if needed\n",
    "- Check for missing values, and decide how to deal with them if needed\n",
    "- Convert categorical columns to numeric values\n",
    "- Create at least one new feature by combining multiple columns. For example, you could calculate the ratio of total charges to tenure. Create at least one plot for your new feature.\n",
    "- Save the data to a csv (or another filetype of your choice) for use next week.\n",
    "- Write a short analysis at the end of the notebook describing your findings and what you did.\n",
    "\n",
    "You can do more data cleaning, preparation, and EDA beyond these basic requirements if you want to learn more and develop your data science skills. For example, you could use a box-cox transformation on the numeric data or try other outlier methods."
   ]
  },
  {
   "cell_type": "markdown",
   "metadata": {
    "heading_collapsed": true
   },
   "source": [
    "### DS process status"
   ]
  },
  {
   "cell_type": "markdown",
   "metadata": {
    "hidden": true
   },
   "source": [
    "Here is our data science process, and where we are (#3):\n",
    "\n",
    "**1. Business understanding**\n",
    "\n",
    "Can we use machine learning to predict if a customer will churn before they leave?\n",
    "\n",
    "**2. Data understanding**\n",
    "\n",
    "Done in week 1 (mostly), this is iterative so you might do more of this as we go on.\n",
    "\n",
    "**3. Data preparation**\n",
    "\n",
    "We are here this week.\n",
    "\n",
    "\n",
    "**4. Modeling**\n",
    "\n",
    "Next week\n",
    "\n",
    "\n",
    "**5. Evaluation**\n",
    "\n",
    "Next week\n",
    "\n",
    "\n",
    "**6. Deployment**\n",
    "\n",
    "Next week"
   ]
  },
  {
   "cell_type": "markdown",
   "source": [
    "## Data Preparation - Tyler Osterberg - Week 2"
   ],
   "metadata": {
    "collapsed": false
   }
  },
  {
   "cell_type": "code",
   "execution_count": 1,
   "outputs": [
    {
     "name": "stdout",
     "output_type": "stream",
     "text": [
      "Collecting package metadata (current_repodata.json): ...working... done\n",
      "Solving environment: ...working... done\n",
      "\n",
      "## Package Plan ##\n",
      "\n",
      "  environment location: C:\\Users\\Tyler\\anaconda3\n",
      "\n",
      "  added / updated specs:\n",
      "    - pyod\n",
      "\n",
      "\n",
      "The following packages will be SUPERSEDED by a higher-priority channel:\n",
      "\n",
      "  conda              pkgs/main::conda-4.11.0-py38haa95532_0 --> conda-forge::conda-4.11.0-py38haa244fe_0\n",
      "\n",
      "\n",
      "Preparing transaction: ...working... done\n",
      "Verifying transaction: ...working... done\n",
      "Executing transaction: ...working... done\n"
     ]
    }
   ],
   "source": [
    "!conda install -c conda-forge pyod -y"
   ],
   "metadata": {
    "collapsed": false,
    "pycharm": {
     "name": "#%%\n"
    }
   }
  },
  {
   "cell_type": "code",
   "execution_count": 2,
   "metadata": {
    "hidden": true
   },
   "outputs": [],
   "source": [
    "# Import and setup\n",
    "\n",
    "%matplotlib inline\n",
    "import pandas as pd\n",
    "import numpy as np\n",
    "import matplotlib.pyplot as plt\n",
    "import seaborn as sns\n",
    "import phik\n",
    "from pyod.models.knn import KNN\n",
    "from sklearn.preprocessing import StandardScaler"
   ]
  },
  {
   "cell_type": "code",
   "execution_count": 3,
   "outputs": [],
   "source": [
    "data = pd.read_csv('churn_data.csv', index_col='customerID')"
   ],
   "metadata": {
    "collapsed": false,
    "pycharm": {
     "name": "#%%\n"
    }
   }
  },
  {
   "cell_type": "code",
   "execution_count": 4,
   "outputs": [
    {
     "data": {
      "text/plain": "            tenure PhoneService        Contract              PaymentMethod  \\\ncustomerID                                                                   \n7590-VHVEG       1           No  Month-to-month           Electronic check   \n5575-GNVDE      34          Yes        One year               Mailed check   \n3668-QPYBK       2          Yes  Month-to-month               Mailed check   \n7795-CFOCW      45           No        One year  Bank transfer (automatic)   \n9237-HQITU       2          Yes  Month-to-month           Electronic check   \n...            ...          ...             ...                        ...   \n6840-RESVB      24          Yes        One year               Mailed check   \n2234-XADUH      72          Yes        One year    Credit card (automatic)   \n4801-JZAZL      11           No  Month-to-month           Electronic check   \n8361-LTMKD       4          Yes  Month-to-month               Mailed check   \n3186-AJIEK      66          Yes        Two year  Bank transfer (automatic)   \n\n            MonthlyCharges  TotalCharges Churn  \ncustomerID                                      \n7590-VHVEG           29.85         29.85    No  \n5575-GNVDE           56.95       1889.50    No  \n3668-QPYBK           53.85        108.15   Yes  \n7795-CFOCW           42.30       1840.75    No  \n9237-HQITU           70.70        151.65   Yes  \n...                    ...           ...   ...  \n6840-RESVB           84.80       1990.50    No  \n2234-XADUH          103.20       7362.90    No  \n4801-JZAZL           29.60        346.45    No  \n8361-LTMKD           74.40        306.60   Yes  \n3186-AJIEK          105.65       6844.50    No  \n\n[7043 rows x 7 columns]",
      "text/html": "<div>\n<style scoped>\n    .dataframe tbody tr th:only-of-type {\n        vertical-align: middle;\n    }\n\n    .dataframe tbody tr th {\n        vertical-align: top;\n    }\n\n    .dataframe thead th {\n        text-align: right;\n    }\n</style>\n<table border=\"1\" class=\"dataframe\">\n  <thead>\n    <tr style=\"text-align: right;\">\n      <th></th>\n      <th>tenure</th>\n      <th>PhoneService</th>\n      <th>Contract</th>\n      <th>PaymentMethod</th>\n      <th>MonthlyCharges</th>\n      <th>TotalCharges</th>\n      <th>Churn</th>\n    </tr>\n    <tr>\n      <th>customerID</th>\n      <th></th>\n      <th></th>\n      <th></th>\n      <th></th>\n      <th></th>\n      <th></th>\n      <th></th>\n    </tr>\n  </thead>\n  <tbody>\n    <tr>\n      <th>7590-VHVEG</th>\n      <td>1</td>\n      <td>No</td>\n      <td>Month-to-month</td>\n      <td>Electronic check</td>\n      <td>29.85</td>\n      <td>29.85</td>\n      <td>No</td>\n    </tr>\n    <tr>\n      <th>5575-GNVDE</th>\n      <td>34</td>\n      <td>Yes</td>\n      <td>One year</td>\n      <td>Mailed check</td>\n      <td>56.95</td>\n      <td>1889.50</td>\n      <td>No</td>\n    </tr>\n    <tr>\n      <th>3668-QPYBK</th>\n      <td>2</td>\n      <td>Yes</td>\n      <td>Month-to-month</td>\n      <td>Mailed check</td>\n      <td>53.85</td>\n      <td>108.15</td>\n      <td>Yes</td>\n    </tr>\n    <tr>\n      <th>7795-CFOCW</th>\n      <td>45</td>\n      <td>No</td>\n      <td>One year</td>\n      <td>Bank transfer (automatic)</td>\n      <td>42.30</td>\n      <td>1840.75</td>\n      <td>No</td>\n    </tr>\n    <tr>\n      <th>9237-HQITU</th>\n      <td>2</td>\n      <td>Yes</td>\n      <td>Month-to-month</td>\n      <td>Electronic check</td>\n      <td>70.70</td>\n      <td>151.65</td>\n      <td>Yes</td>\n    </tr>\n    <tr>\n      <th>...</th>\n      <td>...</td>\n      <td>...</td>\n      <td>...</td>\n      <td>...</td>\n      <td>...</td>\n      <td>...</td>\n      <td>...</td>\n    </tr>\n    <tr>\n      <th>6840-RESVB</th>\n      <td>24</td>\n      <td>Yes</td>\n      <td>One year</td>\n      <td>Mailed check</td>\n      <td>84.80</td>\n      <td>1990.50</td>\n      <td>No</td>\n    </tr>\n    <tr>\n      <th>2234-XADUH</th>\n      <td>72</td>\n      <td>Yes</td>\n      <td>One year</td>\n      <td>Credit card (automatic)</td>\n      <td>103.20</td>\n      <td>7362.90</td>\n      <td>No</td>\n    </tr>\n    <tr>\n      <th>4801-JZAZL</th>\n      <td>11</td>\n      <td>No</td>\n      <td>Month-to-month</td>\n      <td>Electronic check</td>\n      <td>29.60</td>\n      <td>346.45</td>\n      <td>No</td>\n    </tr>\n    <tr>\n      <th>8361-LTMKD</th>\n      <td>4</td>\n      <td>Yes</td>\n      <td>Month-to-month</td>\n      <td>Mailed check</td>\n      <td>74.40</td>\n      <td>306.60</td>\n      <td>Yes</td>\n    </tr>\n    <tr>\n      <th>3186-AJIEK</th>\n      <td>66</td>\n      <td>Yes</td>\n      <td>Two year</td>\n      <td>Bank transfer (automatic)</td>\n      <td>105.65</td>\n      <td>6844.50</td>\n      <td>No</td>\n    </tr>\n  </tbody>\n</table>\n<p>7043 rows × 7 columns</p>\n</div>"
     },
     "execution_count": 4,
     "metadata": {},
     "output_type": "execute_result"
    }
   ],
   "source": [
    "data"
   ],
   "metadata": {
    "collapsed": false,
    "pycharm": {
     "name": "#%%\n"
    }
   }
  },
  {
   "cell_type": "markdown",
   "source": [
    "### Data filtering"
   ],
   "metadata": {
    "collapsed": false
   }
  },
  {
   "cell_type": "code",
   "execution_count": 5,
   "outputs": [
    {
     "data": {
      "text/plain": "            tenure PhoneService        Contract              PaymentMethod  \\\ncustomerID                                                                   \n3668-QPYBK       2          Yes  Month-to-month               Mailed check   \n9237-HQITU       2          Yes  Month-to-month           Electronic check   \n9305-CDSKC       8          Yes  Month-to-month           Electronic check   \n7892-POOKP      28          Yes  Month-to-month           Electronic check   \n0280-XJGEX      49          Yes  Month-to-month  Bank transfer (automatic)   \n\n            MonthlyCharges  TotalCharges Churn  \ncustomerID                                      \n3668-QPYBK           53.85        108.15   Yes  \n9237-HQITU           70.70        151.65   Yes  \n9305-CDSKC           99.65        820.50   Yes  \n7892-POOKP          104.80       3046.05   Yes  \n0280-XJGEX          103.70       5036.30   Yes  ",
      "text/html": "<div>\n<style scoped>\n    .dataframe tbody tr th:only-of-type {\n        vertical-align: middle;\n    }\n\n    .dataframe tbody tr th {\n        vertical-align: top;\n    }\n\n    .dataframe thead th {\n        text-align: right;\n    }\n</style>\n<table border=\"1\" class=\"dataframe\">\n  <thead>\n    <tr style=\"text-align: right;\">\n      <th></th>\n      <th>tenure</th>\n      <th>PhoneService</th>\n      <th>Contract</th>\n      <th>PaymentMethod</th>\n      <th>MonthlyCharges</th>\n      <th>TotalCharges</th>\n      <th>Churn</th>\n    </tr>\n    <tr>\n      <th>customerID</th>\n      <th></th>\n      <th></th>\n      <th></th>\n      <th></th>\n      <th></th>\n      <th></th>\n      <th></th>\n    </tr>\n  </thead>\n  <tbody>\n    <tr>\n      <th>3668-QPYBK</th>\n      <td>2</td>\n      <td>Yes</td>\n      <td>Month-to-month</td>\n      <td>Mailed check</td>\n      <td>53.85</td>\n      <td>108.15</td>\n      <td>Yes</td>\n    </tr>\n    <tr>\n      <th>9237-HQITU</th>\n      <td>2</td>\n      <td>Yes</td>\n      <td>Month-to-month</td>\n      <td>Electronic check</td>\n      <td>70.70</td>\n      <td>151.65</td>\n      <td>Yes</td>\n    </tr>\n    <tr>\n      <th>9305-CDSKC</th>\n      <td>8</td>\n      <td>Yes</td>\n      <td>Month-to-month</td>\n      <td>Electronic check</td>\n      <td>99.65</td>\n      <td>820.50</td>\n      <td>Yes</td>\n    </tr>\n    <tr>\n      <th>7892-POOKP</th>\n      <td>28</td>\n      <td>Yes</td>\n      <td>Month-to-month</td>\n      <td>Electronic check</td>\n      <td>104.80</td>\n      <td>3046.05</td>\n      <td>Yes</td>\n    </tr>\n    <tr>\n      <th>0280-XJGEX</th>\n      <td>49</td>\n      <td>Yes</td>\n      <td>Month-to-month</td>\n      <td>Bank transfer (automatic)</td>\n      <td>103.70</td>\n      <td>5036.30</td>\n      <td>Yes</td>\n    </tr>\n  </tbody>\n</table>\n</div>"
     },
     "execution_count": 5,
     "metadata": {},
     "output_type": "execute_result"
    }
   ],
   "source": [
    "data_churned = data[data['Churn'] == 'Yes']\n",
    "data_churned.head()"
   ],
   "metadata": {
    "collapsed": false,
    "pycharm": {
     "name": "#%%\n"
    }
   }
  },
  {
   "cell_type": "code",
   "execution_count": 6,
   "outputs": [
    {
     "data": {
      "text/plain": "            tenure PhoneService        Contract            PaymentMethod  \\\ncustomerID                                                                 \n9237-HQITU       2          Yes  Month-to-month         Electronic check   \n9305-CDSKC       8          Yes  Month-to-month         Electronic check   \n1452-KIOVK      22          Yes  Month-to-month  Credit card (automatic)   \n7892-POOKP      28          Yes  Month-to-month         Electronic check   \n8091-TTVAX      58          Yes        One year  Credit card (automatic)   \n\n            MonthlyCharges  TotalCharges Churn  \ncustomerID                                      \n9237-HQITU           70.70        151.65   Yes  \n9305-CDSKC           99.65        820.50   Yes  \n1452-KIOVK           89.10       1949.40    No  \n7892-POOKP          104.80       3046.05   Yes  \n8091-TTVAX          100.35       5681.10    No  ",
      "text/html": "<div>\n<style scoped>\n    .dataframe tbody tr th:only-of-type {\n        vertical-align: middle;\n    }\n\n    .dataframe tbody tr th {\n        vertical-align: top;\n    }\n\n    .dataframe thead th {\n        text-align: right;\n    }\n</style>\n<table border=\"1\" class=\"dataframe\">\n  <thead>\n    <tr style=\"text-align: right;\">\n      <th></th>\n      <th>tenure</th>\n      <th>PhoneService</th>\n      <th>Contract</th>\n      <th>PaymentMethod</th>\n      <th>MonthlyCharges</th>\n      <th>TotalCharges</th>\n      <th>Churn</th>\n    </tr>\n    <tr>\n      <th>customerID</th>\n      <th></th>\n      <th></th>\n      <th></th>\n      <th></th>\n      <th></th>\n      <th></th>\n      <th></th>\n    </tr>\n  </thead>\n  <tbody>\n    <tr>\n      <th>9237-HQITU</th>\n      <td>2</td>\n      <td>Yes</td>\n      <td>Month-to-month</td>\n      <td>Electronic check</td>\n      <td>70.70</td>\n      <td>151.65</td>\n      <td>Yes</td>\n    </tr>\n    <tr>\n      <th>9305-CDSKC</th>\n      <td>8</td>\n      <td>Yes</td>\n      <td>Month-to-month</td>\n      <td>Electronic check</td>\n      <td>99.65</td>\n      <td>820.50</td>\n      <td>Yes</td>\n    </tr>\n    <tr>\n      <th>1452-KIOVK</th>\n      <td>22</td>\n      <td>Yes</td>\n      <td>Month-to-month</td>\n      <td>Credit card (automatic)</td>\n      <td>89.10</td>\n      <td>1949.40</td>\n      <td>No</td>\n    </tr>\n    <tr>\n      <th>7892-POOKP</th>\n      <td>28</td>\n      <td>Yes</td>\n      <td>Month-to-month</td>\n      <td>Electronic check</td>\n      <td>104.80</td>\n      <td>3046.05</td>\n      <td>Yes</td>\n    </tr>\n    <tr>\n      <th>8091-TTVAX</th>\n      <td>58</td>\n      <td>Yes</td>\n      <td>One year</td>\n      <td>Credit card (automatic)</td>\n      <td>100.35</td>\n      <td>5681.10</td>\n      <td>No</td>\n    </tr>\n  </tbody>\n</table>\n</div>"
     },
     "execution_count": 6,
     "metadata": {},
     "output_type": "execute_result"
    }
   ],
   "source": [
    "data_high_monthly_payment = data[data['MonthlyCharges'] > data['MonthlyCharges'].median()]\n",
    "data_high_monthly_payment.head()\n"
   ],
   "metadata": {
    "collapsed": false,
    "pycharm": {
     "name": "#%%\n"
    }
   }
  },
  {
   "cell_type": "code",
   "execution_count": 7,
   "outputs": [
    {
     "data": {
      "text/plain": "            tenure PhoneService        Contract              PaymentMethod  \\\ncustomerID                                                                   \n7590-VHVEG       1           No  Month-to-month           Electronic check   \n5575-GNVDE      34          Yes        One year               Mailed check   \n7795-CFOCW      45           No        One year  Bank transfer (automatic)   \n1452-KIOVK      22          Yes  Month-to-month    Credit card (automatic)   \n6713-OKOMC      10           No  Month-to-month               Mailed check   \n...            ...          ...             ...                        ...   \n2569-WGERO      72          Yes        Two year  Bank transfer (automatic)   \n6840-RESVB      24          Yes        One year               Mailed check   \n2234-XADUH      72          Yes        One year    Credit card (automatic)   \n4801-JZAZL      11           No  Month-to-month           Electronic check   \n3186-AJIEK      66          Yes        Two year  Bank transfer (automatic)   \n\n            MonthlyCharges  TotalCharges Churn  \ncustomerID                                      \n7590-VHVEG           29.85         29.85    No  \n5575-GNVDE           56.95       1889.50    No  \n7795-CFOCW           42.30       1840.75    No  \n1452-KIOVK           89.10       1949.40    No  \n6713-OKOMC           29.75        301.90    No  \n...                    ...           ...   ...  \n2569-WGERO           21.15       1419.40    No  \n6840-RESVB           84.80       1990.50    No  \n2234-XADUH          103.20       7362.90    No  \n4801-JZAZL           29.60        346.45    No  \n3186-AJIEK          105.65       6844.50    No  \n\n[5174 rows x 7 columns]",
      "text/html": "<div>\n<style scoped>\n    .dataframe tbody tr th:only-of-type {\n        vertical-align: middle;\n    }\n\n    .dataframe tbody tr th {\n        vertical-align: top;\n    }\n\n    .dataframe thead th {\n        text-align: right;\n    }\n</style>\n<table border=\"1\" class=\"dataframe\">\n  <thead>\n    <tr style=\"text-align: right;\">\n      <th></th>\n      <th>tenure</th>\n      <th>PhoneService</th>\n      <th>Contract</th>\n      <th>PaymentMethod</th>\n      <th>MonthlyCharges</th>\n      <th>TotalCharges</th>\n      <th>Churn</th>\n    </tr>\n    <tr>\n      <th>customerID</th>\n      <th></th>\n      <th></th>\n      <th></th>\n      <th></th>\n      <th></th>\n      <th></th>\n      <th></th>\n    </tr>\n  </thead>\n  <tbody>\n    <tr>\n      <th>7590-VHVEG</th>\n      <td>1</td>\n      <td>No</td>\n      <td>Month-to-month</td>\n      <td>Electronic check</td>\n      <td>29.85</td>\n      <td>29.85</td>\n      <td>No</td>\n    </tr>\n    <tr>\n      <th>5575-GNVDE</th>\n      <td>34</td>\n      <td>Yes</td>\n      <td>One year</td>\n      <td>Mailed check</td>\n      <td>56.95</td>\n      <td>1889.50</td>\n      <td>No</td>\n    </tr>\n    <tr>\n      <th>7795-CFOCW</th>\n      <td>45</td>\n      <td>No</td>\n      <td>One year</td>\n      <td>Bank transfer (automatic)</td>\n      <td>42.30</td>\n      <td>1840.75</td>\n      <td>No</td>\n    </tr>\n    <tr>\n      <th>1452-KIOVK</th>\n      <td>22</td>\n      <td>Yes</td>\n      <td>Month-to-month</td>\n      <td>Credit card (automatic)</td>\n      <td>89.10</td>\n      <td>1949.40</td>\n      <td>No</td>\n    </tr>\n    <tr>\n      <th>6713-OKOMC</th>\n      <td>10</td>\n      <td>No</td>\n      <td>Month-to-month</td>\n      <td>Mailed check</td>\n      <td>29.75</td>\n      <td>301.90</td>\n      <td>No</td>\n    </tr>\n    <tr>\n      <th>...</th>\n      <td>...</td>\n      <td>...</td>\n      <td>...</td>\n      <td>...</td>\n      <td>...</td>\n      <td>...</td>\n      <td>...</td>\n    </tr>\n    <tr>\n      <th>2569-WGERO</th>\n      <td>72</td>\n      <td>Yes</td>\n      <td>Two year</td>\n      <td>Bank transfer (automatic)</td>\n      <td>21.15</td>\n      <td>1419.40</td>\n      <td>No</td>\n    </tr>\n    <tr>\n      <th>6840-RESVB</th>\n      <td>24</td>\n      <td>Yes</td>\n      <td>One year</td>\n      <td>Mailed check</td>\n      <td>84.80</td>\n      <td>1990.50</td>\n      <td>No</td>\n    </tr>\n    <tr>\n      <th>2234-XADUH</th>\n      <td>72</td>\n      <td>Yes</td>\n      <td>One year</td>\n      <td>Credit card (automatic)</td>\n      <td>103.20</td>\n      <td>7362.90</td>\n      <td>No</td>\n    </tr>\n    <tr>\n      <th>4801-JZAZL</th>\n      <td>11</td>\n      <td>No</td>\n      <td>Month-to-month</td>\n      <td>Electronic check</td>\n      <td>29.60</td>\n      <td>346.45</td>\n      <td>No</td>\n    </tr>\n    <tr>\n      <th>3186-AJIEK</th>\n      <td>66</td>\n      <td>Yes</td>\n      <td>Two year</td>\n      <td>Bank transfer (automatic)</td>\n      <td>105.65</td>\n      <td>6844.50</td>\n      <td>No</td>\n    </tr>\n  </tbody>\n</table>\n<p>5174 rows × 7 columns</p>\n</div>"
     },
     "execution_count": 7,
     "metadata": {},
     "output_type": "execute_result"
    }
   ],
   "source": [
    "# Creating some functions for splitting the data more generically\n",
    "\n",
    "def split_df_by_median(dat, col):\n",
    "  above = dat[dat[col] > dat[col].median()]\n",
    "  below = dat[dat[col] <= dat[col].median()]\n",
    "  return [above, below]\n",
    "\n",
    "def split_df_by_category(dat, col):\n",
    "  split_array = []\n",
    "  values = dat[col].unique()\n",
    "  for value in values:\n",
    "    split_array.append(dat[dat[col] == value])\n",
    "  return split_array\n",
    "\n",
    "[test_median_high, test_median_low] = split_df_by_median(data, 'MonthlyCharges')\n",
    "[test_contract_one, test_contract_two, test_contract_three] = split_df_by_category(data, 'Contract')\n",
    "[pm_one, pm_two, pm_three, pm_four] = split_df_by_category(data, 'PaymentMethod')\n",
    "[phone_no, phone_yes] = split_df_by_category(data, 'PhoneService')\n",
    "[churn_no, churn_yes] = split_df_by_category(data, 'Churn')\n",
    "churn_no\n"
   ],
   "metadata": {
    "collapsed": false,
    "pycharm": {
     "name": "#%%\n"
    }
   }
  },
  {
   "cell_type": "markdown",
   "source": [
    "### Test Distribution"
   ],
   "metadata": {
    "collapsed": false
   }
  },
  {
   "cell_type": "code",
   "execution_count": 8,
   "outputs": [
    {
     "data": {
      "text/plain": "<AxesSubplot:>"
     },
     "execution_count": 8,
     "metadata": {},
     "output_type": "execute_result"
    },
    {
     "data": {
      "text/plain": "<Figure size 432x288 with 1 Axes>",
      "image/png": "[encoded data removed]"
     },
     "metadata": {
      "needs_background": "light"
     },
     "output_type": "display_data"
    }
   ],
   "source": [
    "sns.boxplot(data=data.tenure, orient='h')\n"
   ],
   "metadata": {
    "collapsed": false,
    "pycharm": {
     "name": "#%%\n"
    }
   }
  },
  {
   "cell_type": "code",
   "execution_count": 9,
   "outputs": [
    {
     "data": {
      "text/plain": "<AxesSubplot:xlabel='tenure', ylabel='Count'>"
     },
     "execution_count": 9,
     "metadata": {},
     "output_type": "execute_result"
    },
    {
     "data": {
      "text/plain": "<Figure size 432x288 with 1 Axes>",
      "image/png": "[encoded data removed]"
     },
     "metadata": {
      "needs_background": "light"
     },
     "output_type": "display_data"
    }
   ],
   "source": [
    "sns.histplot(data=data.tenure)"
   ],
   "metadata": {
    "collapsed": false,
    "pycharm": {
     "name": "#%%\n"
    }
   }
  },
  {
   "cell_type": "code",
   "execution_count": 10,
   "outputs": [
    {
     "data": {
      "text/plain": "<AxesSubplot:>"
     },
     "execution_count": 10,
     "metadata": {},
     "output_type": "execute_result"
    },
    {
     "data": {
      "text/plain": "<Figure size 432x288 with 1 Axes>",
      "image/png": "[encoded data removed]"
     },
     "metadata": {
      "needs_background": "light"
     },
     "output_type": "display_data"
    }
   ],
   "source": [
    "sns.boxplot(data=data.TotalCharges, orient='h')"
   ],
   "metadata": {
    "collapsed": false,
    "pycharm": {
     "name": "#%%\n"
    }
   }
  },
  {
   "cell_type": "code",
   "execution_count": 11,
   "outputs": [
    {
     "data": {
      "text/plain": "<AxesSubplot:xlabel='TotalCharges', ylabel='Count'>"
     },
     "execution_count": 11,
     "metadata": {},
     "output_type": "execute_result"
    },
    {
     "data": {
      "text/plain": "<Figure size 432x288 with 1 Axes>",
      "image/png": "[encoded data removed]"
     },
     "metadata": {
      "needs_background": "light"
     },
     "output_type": "display_data"
    }
   ],
   "source": [
    "sns.histplot(data=data.TotalCharges)"
   ],
   "metadata": {
    "collapsed": false,
    "pycharm": {
     "name": "#%%\n"
    }
   }
  },
  {
   "cell_type": "code",
   "execution_count": 12,
   "outputs": [
    {
     "data": {
      "text/plain": "<AxesSubplot:>"
     },
     "execution_count": 12,
     "metadata": {},
     "output_type": "execute_result"
    },
    {
     "data": {
      "text/plain": "<Figure size 432x288 with 1 Axes>",
      "image/png": "[encoded data removed]"
     },
     "metadata": {
      "needs_background": "light"
     },
     "output_type": "display_data"
    }
   ],
   "source": [
    "sns.boxplot(data=data.MonthlyCharges, orient='h')"
   ],
   "metadata": {
    "collapsed": false,
    "pycharm": {
     "name": "#%%\n"
    }
   }
  },
  {
   "cell_type": "code",
   "execution_count": 13,
   "outputs": [
    {
     "data": {
      "text/plain": "<AxesSubplot:xlabel='MonthlyCharges', ylabel='Count'>"
     },
     "execution_count": 13,
     "metadata": {},
     "output_type": "execute_result"
    },
    {
     "data": {
      "text/plain": "<Figure size 432x288 with 1 Axes>",
      "image/png": "[encoded data removed]"
     },
     "metadata": {
      "needs_background": "light"
     },
     "output_type": "display_data"
    }
   ],
   "source": [
    "sns.histplot(data=data.MonthlyCharges)"
   ],
   "metadata": {
    "collapsed": false,
    "pycharm": {
     "name": "#%%\n"
    }
   }
  },
  {
   "cell_type": "markdown",
   "source": [
    "### Test Outliers"
   ],
   "metadata": {
    "collapsed": false
   }
  },
  {
   "cell_type": "code",
   "execution_count": 14,
   "outputs": [
    {
     "data": {
      "text/plain": "Series([], Name: tenure, dtype: int64)"
     },
     "execution_count": 14,
     "metadata": {},
     "output_type": "execute_result"
    }
   ],
   "source": [
    "\n",
    "def get_boundaries(dat, col):\n",
    "    q1 = dat[col].quantile(0.25)\n",
    "    q3 = dat[col].quantile(0.75)\n",
    "    iqr = q3 - q1\n",
    "    upper_boundary = q3 + 1.5 * iqr\n",
    "    lower_boundary = q1 - 1.5 * iqr\n",
    "    return [upper_boundary, lower_boundary]\n",
    "\n",
    "def iqr_test(dat, col):\n",
    "  [upper_boundary, lower_boundary] = get_boundaries(dat, col)\n",
    "  return dat[(dat[col] < lower_boundary) | (dat[col] > upper_boundary)][col]\n",
    "\n",
    "tenure_outliers = iqr_test(data, 'tenure')\n",
    "tenure_outliers\n"
   ],
   "metadata": {
    "collapsed": false,
    "pycharm": {
     "name": "#%%\n"
    }
   }
  },
  {
   "cell_type": "code",
   "execution_count": 15,
   "outputs": [
    {
     "data": {
      "text/plain": "Series([], Name: MonthlyCharges, dtype: float64)"
     },
     "execution_count": 15,
     "metadata": {},
     "output_type": "execute_result"
    }
   ],
   "source": [
    "monthly_outliers = iqr_test(data, 'MonthlyCharges')\n",
    "monthly_outliers"
   ],
   "metadata": {
    "collapsed": false,
    "pycharm": {
     "name": "#%%\n"
    }
   }
  },
  {
   "cell_type": "code",
   "execution_count": 16,
   "outputs": [
    {
     "data": {
      "text/plain": "Series([], Name: TotalCharges, dtype: float64)"
     },
     "execution_count": 16,
     "metadata": {},
     "output_type": "execute_result"
    }
   ],
   "source": [
    "total_outliers = iqr_test(data, 'TotalCharges')\n",
    "total_outliers"
   ],
   "metadata": {
    "collapsed": false,
    "pycharm": {
     "name": "#%%\n"
    }
   }
  },
  {
   "cell_type": "code",
   "execution_count": 17,
   "outputs": [
    {
     "data": {
      "text/plain": "[[[0.533295470680108, 1], [1.0, 2], [1.0, 3]],\n [[0.5683657532301576, 1], [1.0, 2], [1.0, 3]],\n [[0.8065984072810012, 1], [0.9439704209328783, 2], [1.0, 3]]]"
     },
     "execution_count": 17,
     "metadata": {},
     "output_type": "execute_result"
    }
   ],
   "source": [
    "def std_outliers_test(dat, col):\n",
    "  values = []\n",
    "  std = dat[col].std()\n",
    "  total = dat[col].count()\n",
    "  for i in range(3):\n",
    "    top = dat[dat[col] > (dat[col].mean() + std*(i+1))][col].count()\n",
    "    bottom = dat[dat[col] < (dat[col].mean() - std*(i+1))][col].count()\n",
    "    values.append([((total - (top + bottom)) / total), i+1])\n",
    "  return values\n",
    "\n",
    "def concat_outlier_test(dat, cols):\n",
    "  response = []\n",
    "  for col in cols:\n",
    "    response.append(std_outliers_test(dat, col))\n",
    "  return response\n",
    "\n",
    "columns = ['tenure','MonthlyCharges','TotalCharges']\n",
    "concat_outlier_test(data, columns)\n"
   ],
   "metadata": {
    "collapsed": false,
    "pycharm": {
     "name": "#%%\n"
    }
   }
  },
  {
   "cell_type": "markdown",
   "source": [
    "It appears that none of our numeric columns have any outliers, first when looking at the boxplot, and second when testing IQR. It might not even be accurate to use the IQR test since the data does not appear to be normally distributed."
   ],
   "metadata": {
    "collapsed": false
   }
  },
  {
   "cell_type": "code",
   "execution_count": 18,
   "outputs": [
    {
     "data": {
      "text/plain": "<AxesSubplot:>"
     },
     "execution_count": 18,
     "metadata": {},
     "output_type": "execute_result"
    },
    {
     "data": {
      "text/plain": "<Figure size 432x288 with 1 Axes>",
      "image/png": "[encoded data removed]"
     },
     "metadata": {
      "needs_background": "light"
     },
     "output_type": "display_data"
    }
   ],
   "source": [
    "# make a copy so as to to alter the original data practicing by inserting and trimming an outlier\n",
    "column = columns[2]\n",
    "data_copy = data.copy()\n",
    "mask = data_copy['TotalCharges'] == data_copy['TotalCharges'].max()\n",
    "data_copy.loc[mask, 'TotalCharges'] = 15000\n",
    "sns.boxplot(data=data_copy.TotalCharges, orient='h')\n",
    "\n"
   ],
   "metadata": {
    "collapsed": false,
    "pycharm": {
     "name": "#%%\n"
    }
   }
  },
  {
   "cell_type": "code",
   "execution_count": 19,
   "outputs": [
    {
     "data": {
      "text/plain": "<AxesSubplot:>"
     },
     "execution_count": 19,
     "metadata": {},
     "output_type": "execute_result"
    },
    {
     "data": {
      "text/plain": "<Figure size 432x288 with 1 Axes>",
      "image/png": "[encoded data removed]"
     },
     "metadata": {
      "needs_background": "light"
     },
     "output_type": "display_data"
    }
   ],
   "source": [
    "# Removal of outliers by assigning np.nan\n",
    "df = data_copy.copy()\n",
    "[upper, lower] = get_boundaries(data_copy, column)\n",
    "df.at[data_copy[column] < lower, column] = np.nan\n",
    "df.at[data_copy[column] > upper, column] = np.nan\n",
    "sns.boxplot(data=df.TotalCharges, orient='h')"
   ],
   "metadata": {
    "collapsed": false,
    "pycharm": {
     "name": "#%%\n"
    }
   }
  },
  {
   "cell_type": "code",
   "execution_count": 20,
   "outputs": [
    {
     "data": {
      "text/plain": "<AxesSubplot:>"
     },
     "execution_count": 20,
     "metadata": {},
     "output_type": "execute_result"
    },
    {
     "data": {
      "text/plain": "<Figure size 432x288 with 1 Axes>",
      "image/png": "[encoded data removed]"
     },
     "metadata": {
      "needs_background": "light"
     },
     "output_type": "display_data"
    }
   ],
   "source": [
    "# Inplace removal of outliers using clip\n",
    "data_copy[column].clip(lower=lower, upper=upper, inplace=True)\n",
    "sns.boxplot(data=data_copy.TotalCharges, orient='h')\n"
   ],
   "metadata": {
    "collapsed": false,
    "pycharm": {
     "name": "#%%\n"
    }
   }
  },
  {
   "cell_type": "markdown",
   "source": [
    "### Test Missing Data"
   ],
   "metadata": {
    "collapsed": false
   }
  },
  {
   "cell_type": "code",
   "execution_count": 21,
   "outputs": [
    {
     "data": {
      "text/plain": "            tenure  MonthlyCharges  TotalCharges\ncount  7043.000000     7043.000000   7032.000000\nmean     32.371149       64.761692   2283.300441\nstd      24.559481       30.090047   2266.771362\nmin       0.000000       18.250000     18.800000\n25%       9.000000       35.500000    401.450000\n50%      29.000000       70.350000   1397.475000\n75%      55.000000       89.850000   3794.737500\nmax      72.000000      118.750000   8684.800000",
      "text/html": "<div>\n<style scoped>\n    .dataframe tbody tr th:only-of-type {\n        vertical-align: middle;\n    }\n\n    .dataframe tbody tr th {\n        vertical-align: top;\n    }\n\n    .dataframe thead th {\n        text-align: right;\n    }\n</style>\n<table border=\"1\" class=\"dataframe\">\n  <thead>\n    <tr style=\"text-align: right;\">\n      <th></th>\n      <th>tenure</th>\n      <th>MonthlyCharges</th>\n      <th>TotalCharges</th>\n    </tr>\n  </thead>\n  <tbody>\n    <tr>\n      <th>count</th>\n      <td>7043.000000</td>\n      <td>7043.000000</td>\n      <td>7032.000000</td>\n    </tr>\n    <tr>\n      <th>mean</th>\n      <td>32.371149</td>\n      <td>64.761692</td>\n      <td>2283.300441</td>\n    </tr>\n    <tr>\n      <th>std</th>\n      <td>24.559481</td>\n      <td>30.090047</td>\n      <td>2266.771362</td>\n    </tr>\n    <tr>\n      <th>min</th>\n      <td>0.000000</td>\n      <td>18.250000</td>\n      <td>18.800000</td>\n    </tr>\n    <tr>\n      <th>25%</th>\n      <td>9.000000</td>\n      <td>35.500000</td>\n      <td>401.450000</td>\n    </tr>\n    <tr>\n      <th>50%</th>\n      <td>29.000000</td>\n      <td>70.350000</td>\n      <td>1397.475000</td>\n    </tr>\n    <tr>\n      <th>75%</th>\n      <td>55.000000</td>\n      <td>89.850000</td>\n      <td>3794.737500</td>\n    </tr>\n    <tr>\n      <th>max</th>\n      <td>72.000000</td>\n      <td>118.750000</td>\n      <td>8684.800000</td>\n    </tr>\n  </tbody>\n</table>\n</div>"
     },
     "execution_count": 21,
     "metadata": {},
     "output_type": "execute_result"
    }
   ],
   "source": [
    "data.describe()"
   ],
   "metadata": {
    "collapsed": false,
    "pycharm": {
     "name": "#%%\n"
    }
   }
  },
  {
   "cell_type": "code",
   "execution_count": 22,
   "outputs": [
    {
     "data": {
      "text/plain": "tenure             0\nPhoneService       0\nContract           0\nPaymentMethod      0\nMonthlyCharges     0\nTotalCharges      11\nChurn              0\ndtype: int64"
     },
     "execution_count": 22,
     "metadata": {},
     "output_type": "execute_result"
    }
   ],
   "source": [
    "data.isna().sum()"
   ],
   "metadata": {
    "collapsed": false,
    "pycharm": {
     "name": "#%%\n"
    }
   }
  },
  {
   "cell_type": "code",
   "execution_count": 23,
   "outputs": [
    {
     "data": {
      "text/plain": "tenure            0\nPhoneService      0\nContract          0\nPaymentMethod     0\nMonthlyCharges    0\nTotalCharges      0\nChurn             0\ndtype: int64"
     },
     "execution_count": 23,
     "metadata": {},
     "output_type": "execute_result"
    }
   ],
   "source": [
    "# Option 1 - Removing incomplete observations\n",
    "drop_na_data = data.copy()\n",
    "drop_na_data.dropna(inplace=True)\n",
    "drop_na_data.isna().sum()"
   ],
   "metadata": {
    "collapsed": false,
    "pycharm": {
     "name": "#%%\n"
    }
   }
  },
  {
   "cell_type": "code",
   "execution_count": 24,
   "outputs": [
    {
     "data": {
      "text/plain": "            tenure  MonthlyCharges  TotalCharges\ncount  7032.000000     7032.000000   7032.000000\nmean     32.421786       64.798208   2283.300441\nstd      24.545260       30.085974   2266.771362\nmin       1.000000       18.250000     18.800000\n25%       9.000000       35.587500    401.450000\n50%      29.000000       70.350000   1397.475000\n75%      55.000000       89.862500   3794.737500\nmax      72.000000      118.750000   8684.800000",
      "text/html": "<div>\n<style scoped>\n    .dataframe tbody tr th:only-of-type {\n        vertical-align: middle;\n    }\n\n    .dataframe tbody tr th {\n        vertical-align: top;\n    }\n\n    .dataframe thead th {\n        text-align: right;\n    }\n</style>\n<table border=\"1\" class=\"dataframe\">\n  <thead>\n    <tr style=\"text-align: right;\">\n      <th></th>\n      <th>tenure</th>\n      <th>MonthlyCharges</th>\n      <th>TotalCharges</th>\n    </tr>\n  </thead>\n  <tbody>\n    <tr>\n      <th>count</th>\n      <td>7032.000000</td>\n      <td>7032.000000</td>\n      <td>7032.000000</td>\n    </tr>\n    <tr>\n      <th>mean</th>\n      <td>32.421786</td>\n      <td>64.798208</td>\n      <td>2283.300441</td>\n    </tr>\n    <tr>\n      <th>std</th>\n      <td>24.545260</td>\n      <td>30.085974</td>\n      <td>2266.771362</td>\n    </tr>\n    <tr>\n      <th>min</th>\n      <td>1.000000</td>\n      <td>18.250000</td>\n      <td>18.800000</td>\n    </tr>\n    <tr>\n      <th>25%</th>\n      <td>9.000000</td>\n      <td>35.587500</td>\n      <td>401.450000</td>\n    </tr>\n    <tr>\n      <th>50%</th>\n      <td>29.000000</td>\n      <td>70.350000</td>\n      <td>1397.475000</td>\n    </tr>\n    <tr>\n      <th>75%</th>\n      <td>55.000000</td>\n      <td>89.862500</td>\n      <td>3794.737500</td>\n    </tr>\n    <tr>\n      <th>max</th>\n      <td>72.000000</td>\n      <td>118.750000</td>\n      <td>8684.800000</td>\n    </tr>\n  </tbody>\n</table>\n</div>"
     },
     "execution_count": 24,
     "metadata": {},
     "output_type": "execute_result"
    }
   ],
   "source": [
    "drop_na_data.describe()"
   ],
   "metadata": {
    "collapsed": false,
    "pycharm": {
     "name": "#%%\n"
    }
   }
  },
  {
   "cell_type": "code",
   "execution_count": 25,
   "outputs": [
    {
     "data": {
      "text/plain": "          tenure  MonthlyCharges  TotalCharges\ncount  11.000000       11.000000           0.0\nmean   -0.050637       -0.036516           0.0\nstd     0.014221        0.004073           0.0\nmin    -1.000000        0.000000           0.0\n25%     0.000000       -0.087500           0.0\n50%     0.000000        0.000000           0.0\n75%     0.000000       -0.012500           0.0\nmax     0.000000        0.000000           0.0",
      "text/html": "<div>\n<style scoped>\n    .dataframe tbody tr th:only-of-type {\n        vertical-align: middle;\n    }\n\n    .dataframe tbody tr th {\n        vertical-align: top;\n    }\n\n    .dataframe thead th {\n        text-align: right;\n    }\n</style>\n<table border=\"1\" class=\"dataframe\">\n  <thead>\n    <tr style=\"text-align: right;\">\n      <th></th>\n      <th>tenure</th>\n      <th>MonthlyCharges</th>\n      <th>TotalCharges</th>\n    </tr>\n  </thead>\n  <tbody>\n    <tr>\n      <th>count</th>\n      <td>11.000000</td>\n      <td>11.000000</td>\n      <td>0.0</td>\n    </tr>\n    <tr>\n      <th>mean</th>\n      <td>-0.050637</td>\n      <td>-0.036516</td>\n      <td>0.0</td>\n    </tr>\n    <tr>\n      <th>std</th>\n      <td>0.014221</td>\n      <td>0.004073</td>\n      <td>0.0</td>\n    </tr>\n    <tr>\n      <th>min</th>\n      <td>-1.000000</td>\n      <td>0.000000</td>\n      <td>0.0</td>\n    </tr>\n    <tr>\n      <th>25%</th>\n      <td>0.000000</td>\n      <td>-0.087500</td>\n      <td>0.0</td>\n    </tr>\n    <tr>\n      <th>50%</th>\n      <td>0.000000</td>\n      <td>0.000000</td>\n      <td>0.0</td>\n    </tr>\n    <tr>\n      <th>75%</th>\n      <td>0.000000</td>\n      <td>-0.012500</td>\n      <td>0.0</td>\n    </tr>\n    <tr>\n      <th>max</th>\n      <td>0.000000</td>\n      <td>0.000000</td>\n      <td>0.0</td>\n    </tr>\n  </tbody>\n</table>\n</div>"
     },
     "execution_count": 25,
     "metadata": {},
     "output_type": "execute_result"
    }
   ],
   "source": [
    "# Observing the changes that this does to the data\n",
    "data.describe() - drop_na_data.describe()"
   ],
   "metadata": {
    "collapsed": false,
    "pycharm": {
     "name": "#%%\n"
    }
   }
  },
  {
   "cell_type": "code",
   "execution_count": 26,
   "outputs": [
    {
     "data": {
      "text/plain": "tenure            0\nPhoneService      0\nContract          0\nPaymentMethod     0\nMonthlyCharges    0\nTotalCharges      0\nChurn             0\ndtype: int64"
     },
     "execution_count": 26,
     "metadata": {},
     "output_type": "execute_result"
    }
   ],
   "source": [
    "# Option 2 - Replace with the median value (better than mean for skewed distributions)\n",
    "filled_median_na_data = data.copy()\n",
    "filled_median_na_data.fillna(filled_median_na_data['TotalCharges'].median(), inplace=True)\n",
    "filled_median_na_data.isna().sum()"
   ],
   "metadata": {
    "collapsed": false,
    "pycharm": {
     "name": "#%%\n"
    }
   }
  },
  {
   "cell_type": "code",
   "execution_count": 27,
   "outputs": [
    {
     "data": {
      "text/plain": "            tenure  MonthlyCharges  TotalCharges\ncount  7043.000000     7043.000000   7043.000000\nmean     32.371149       64.761692   2281.916928\nstd      24.559481       30.090047   2265.270398\nmin       0.000000       18.250000     18.800000\n25%       9.000000       35.500000    402.225000\n50%      29.000000       70.350000   1397.475000\n75%      55.000000       89.850000   3786.600000\nmax      72.000000      118.750000   8684.800000",
      "text/html": "<div>\n<style scoped>\n    .dataframe tbody tr th:only-of-type {\n        vertical-align: middle;\n    }\n\n    .dataframe tbody tr th {\n        vertical-align: top;\n    }\n\n    .dataframe thead th {\n        text-align: right;\n    }\n</style>\n<table border=\"1\" class=\"dataframe\">\n  <thead>\n    <tr style=\"text-align: right;\">\n      <th></th>\n      <th>tenure</th>\n      <th>MonthlyCharges</th>\n      <th>TotalCharges</th>\n    </tr>\n  </thead>\n  <tbody>\n    <tr>\n      <th>count</th>\n      <td>7043.000000</td>\n      <td>7043.000000</td>\n      <td>7043.000000</td>\n    </tr>\n    <tr>\n      <th>mean</th>\n      <td>32.371149</td>\n      <td>64.761692</td>\n      <td>2281.916928</td>\n    </tr>\n    <tr>\n      <th>std</th>\n      <td>24.559481</td>\n      <td>30.090047</td>\n      <td>2265.270398</td>\n    </tr>\n    <tr>\n      <th>min</th>\n      <td>0.000000</td>\n      <td>18.250000</td>\n      <td>18.800000</td>\n    </tr>\n    <tr>\n      <th>25%</th>\n      <td>9.000000</td>\n      <td>35.500000</td>\n      <td>402.225000</td>\n    </tr>\n    <tr>\n      <th>50%</th>\n      <td>29.000000</td>\n      <td>70.350000</td>\n      <td>1397.475000</td>\n    </tr>\n    <tr>\n      <th>75%</th>\n      <td>55.000000</td>\n      <td>89.850000</td>\n      <td>3786.600000</td>\n    </tr>\n    <tr>\n      <th>max</th>\n      <td>72.000000</td>\n      <td>118.750000</td>\n      <td>8684.800000</td>\n    </tr>\n  </tbody>\n</table>\n</div>"
     },
     "execution_count": 27,
     "metadata": {},
     "output_type": "execute_result"
    }
   ],
   "source": [
    "filled_median_na_data.describe()"
   ],
   "metadata": {
    "collapsed": false,
    "pycharm": {
     "name": "#%%\n"
    }
   }
  },
  {
   "cell_type": "code",
   "execution_count": 28,
   "outputs": [
    {
     "data": {
      "text/plain": "       tenure  MonthlyCharges  TotalCharges\ncount     0.0             0.0    -11.000000\nmean      0.0             0.0      1.383513\nstd       0.0             0.0      1.500963\nmin       0.0             0.0      0.000000\n25%       0.0             0.0     -0.775000\n50%       0.0             0.0      0.000000\n75%       0.0             0.0      8.137500\nmax       0.0             0.0      0.000000",
      "text/html": "<div>\n<style scoped>\n    .dataframe tbody tr th:only-of-type {\n        vertical-align: middle;\n    }\n\n    .dataframe tbody tr th {\n        vertical-align: top;\n    }\n\n    .dataframe thead th {\n        text-align: right;\n    }\n</style>\n<table border=\"1\" class=\"dataframe\">\n  <thead>\n    <tr style=\"text-align: right;\">\n      <th></th>\n      <th>tenure</th>\n      <th>MonthlyCharges</th>\n      <th>TotalCharges</th>\n    </tr>\n  </thead>\n  <tbody>\n    <tr>\n      <th>count</th>\n      <td>0.0</td>\n      <td>0.0</td>\n      <td>-11.000000</td>\n    </tr>\n    <tr>\n      <th>mean</th>\n      <td>0.0</td>\n      <td>0.0</td>\n      <td>1.383513</td>\n    </tr>\n    <tr>\n      <th>std</th>\n      <td>0.0</td>\n      <td>0.0</td>\n      <td>1.500963</td>\n    </tr>\n    <tr>\n      <th>min</th>\n      <td>0.0</td>\n      <td>0.0</td>\n      <td>0.000000</td>\n    </tr>\n    <tr>\n      <th>25%</th>\n      <td>0.0</td>\n      <td>0.0</td>\n      <td>-0.775000</td>\n    </tr>\n    <tr>\n      <th>50%</th>\n      <td>0.0</td>\n      <td>0.0</td>\n      <td>0.000000</td>\n    </tr>\n    <tr>\n      <th>75%</th>\n      <td>0.0</td>\n      <td>0.0</td>\n      <td>8.137500</td>\n    </tr>\n    <tr>\n      <th>max</th>\n      <td>0.0</td>\n      <td>0.0</td>\n      <td>0.000000</td>\n    </tr>\n  </tbody>\n</table>\n</div>"
     },
     "execution_count": 28,
     "metadata": {},
     "output_type": "execute_result"
    }
   ],
   "source": [
    "# Observing the changes that this does to the data\n",
    "data.describe() - filled_median_na_data.describe()"
   ],
   "metadata": {
    "collapsed": false,
    "pycharm": {
     "name": "#%%\n"
    }
   }
  },
  {
   "cell_type": "markdown",
   "source": [
    "### Converting Categorical Features to Numerical"
   ],
   "metadata": {
    "collapsed": false
   }
  },
  {
   "cell_type": "code",
   "execution_count": 29,
   "outputs": [
    {
     "name": "stdout",
     "output_type": "stream",
     "text": [
      "<class 'pandas.core.frame.DataFrame'>\n",
      "Index: 7043 entries, 7590-VHVEG to 3186-AJIEK\n",
      "Data columns (total 7 columns):\n",
      " #   Column          Non-Null Count  Dtype  \n",
      "---  ------          --------------  -----  \n",
      " 0   tenure          7043 non-null   int64  \n",
      " 1   PhoneService    7043 non-null   object \n",
      " 2   Contract        7043 non-null   object \n",
      " 3   PaymentMethod   7043 non-null   object \n",
      " 4   MonthlyCharges  7043 non-null   float64\n",
      " 5   TotalCharges    7043 non-null   float64\n",
      " 6   Churn           7043 non-null   object \n",
      "dtypes: float64(2), int64(1), object(4)\n",
      "memory usage: 698.2+ KB\n"
     ]
    }
   ],
   "source": [
    "data = filled_median_na_data.copy()\n",
    "data.info()"
   ],
   "metadata": {
    "collapsed": false,
    "pycharm": {
     "name": "#%%\n"
    }
   }
  },
  {
   "cell_type": "code",
   "execution_count": 30,
   "outputs": [
    {
     "data": {
      "text/plain": "Yes    6361\nNo      682\nName: PhoneService, dtype: int64"
     },
     "execution_count": 30,
     "metadata": {},
     "output_type": "execute_result"
    }
   ],
   "source": [
    "data['PhoneService'].value_counts()"
   ],
   "metadata": {
    "collapsed": false,
    "pycharm": {
     "name": "#%%\n"
    }
   }
  },
  {
   "cell_type": "code",
   "execution_count": 31,
   "outputs": [
    {
     "data": {
      "text/plain": "1    6361\n0     682\nName: PhoneService, dtype: int64"
     },
     "execution_count": 31,
     "metadata": {},
     "output_type": "execute_result"
    }
   ],
   "source": [
    "# Converting PhoneService to numeric\n",
    "data['PhoneService'] = data['PhoneService'].replace({'No': 0, 'Yes': 1})\n",
    "data['PhoneService'].value_counts()"
   ],
   "metadata": {
    "collapsed": false,
    "pycharm": {
     "name": "#%%\n"
    }
   }
  },
  {
   "cell_type": "code",
   "execution_count": 32,
   "outputs": [
    {
     "data": {
      "text/plain": "Month-to-month    3875\nTwo year          1695\nOne year          1473\nName: Contract, dtype: int64"
     },
     "execution_count": 32,
     "metadata": {},
     "output_type": "execute_result"
    }
   ],
   "source": [
    "data['Contract'].value_counts()"
   ],
   "metadata": {
    "collapsed": false,
    "pycharm": {
     "name": "#%%\n"
    }
   }
  },
  {
   "cell_type": "code",
   "execution_count": 33,
   "outputs": [
    {
     "data": {
      "text/plain": "0    3875\n2    1695\n1    1473\nName: Contract, dtype: int64"
     },
     "execution_count": 33,
     "metadata": {},
     "output_type": "execute_result"
    }
   ],
   "source": [
    "data['Contract'] = data['Contract'].replace({'Month-to-month': 0, 'One year': 1 ,'Two year': 2})\n",
    "data['Contract'].value_counts()"
   ],
   "metadata": {
    "collapsed": false,
    "pycharm": {
     "name": "#%%\n"
    }
   }
  },
  {
   "cell_type": "code",
   "execution_count": 34,
   "outputs": [
    {
     "data": {
      "text/plain": "Electronic check             2365\nMailed check                 1612\nBank transfer (automatic)    1544\nCredit card (automatic)      1522\nName: PaymentMethod, dtype: int64"
     },
     "execution_count": 34,
     "metadata": {},
     "output_type": "execute_result"
    }
   ],
   "source": [
    "data['PaymentMethod'].value_counts()"
   ],
   "metadata": {
    "collapsed": false,
    "pycharm": {
     "name": "#%%\n"
    }
   }
  },
  {
   "cell_type": "code",
   "execution_count": 35,
   "outputs": [
    {
     "data": {
      "text/plain": "0    2365\n1    1612\n2    1544\n3    1522\nName: PaymentMethod, dtype: int64"
     },
     "execution_count": 35,
     "metadata": {},
     "output_type": "execute_result"
    }
   ],
   "source": [
    "data['PaymentMethod'] = data['PaymentMethod'].replace({'Electronic check': 0, 'Mailed check': 1, 'Bank transfer (automatic)': 2, 'Credit card (automatic)': 3})\n",
    "data['PaymentMethod'].value_counts()"
   ],
   "metadata": {
    "collapsed": false,
    "pycharm": {
     "name": "#%%\n"
    }
   }
  },
  {
   "cell_type": "code",
   "execution_count": 36,
   "outputs": [
    {
     "data": {
      "text/plain": "No     5174\nYes    1869\nName: Churn, dtype: int64"
     },
     "execution_count": 36,
     "metadata": {},
     "output_type": "execute_result"
    }
   ],
   "source": [
    "data['Churn'].value_counts()"
   ],
   "metadata": {
    "collapsed": false,
    "pycharm": {
     "name": "#%%\n"
    }
   }
  },
  {
   "cell_type": "code",
   "execution_count": 37,
   "outputs": [
    {
     "data": {
      "text/plain": "0    5174\n1    1869\nName: Churn, dtype: int64"
     },
     "execution_count": 37,
     "metadata": {},
     "output_type": "execute_result"
    }
   ],
   "source": [
    "data['Churn'] = data['Churn'].replace({'No': 0, 'Yes': 1})\n",
    "data['Churn'].value_counts()"
   ],
   "metadata": {
    "collapsed": false,
    "pycharm": {
     "name": "#%%\n"
    }
   }
  },
  {
   "cell_type": "markdown",
   "source": [
    "### Feature Engineering"
   ],
   "metadata": {
    "collapsed": false
   }
  },
  {
   "cell_type": "code",
   "execution_count": 38,
   "outputs": [
    {
     "data": {
      "text/plain": "<AxesSubplot:ylabel='Frequency'>"
     },
     "execution_count": 38,
     "metadata": {},
     "output_type": "execute_result"
    },
    {
     "data": {
      "text/plain": "<Figure size 432x288 with 1 Axes>",
      "image/png": "[encoded data removed]"
     },
     "metadata": {
      "needs_background": "light"
     },
     "output_type": "display_data"
    }
   ],
   "source": [
    "log_data_copy = data.copy()\n",
    "log_data_copy['MonthlyCharges'] = np.log(log_data_copy['MonthlyCharges'])\n",
    "log_data_copy['MonthlyCharges'].plot.hist()"
   ],
   "metadata": {
    "collapsed": false,
    "pycharm": {
     "name": "#%%\n"
    }
   }
  },
  {
   "cell_type": "code",
   "execution_count": 39,
   "outputs": [
    {
     "data": {
      "text/plain": "<AxesSubplot:ylabel='Frequency'>"
     },
     "execution_count": 39,
     "metadata": {},
     "output_type": "execute_result"
    },
    {
     "data": {
      "text/plain": "<Figure size 432x288 with 1 Axes>",
      "image/png": "[encoded data removed]"
     },
     "metadata": {
      "needs_background": "light"
     },
     "output_type": "display_data"
    }
   ],
   "source": [
    "# Compared to the original data feature\n",
    "data['MonthlyCharges'].plot.hist()"
   ],
   "metadata": {
    "collapsed": false,
    "pycharm": {
     "name": "#%%\n"
    }
   }
  },
  {
   "cell_type": "markdown",
   "source": [
    "#### Extracting Feature from Categorical Column"
   ],
   "metadata": {
    "collapsed": false
   }
  },
  {
   "cell_type": "code",
   "execution_count": 40,
   "outputs": [
    {
     "data": {
      "text/plain": "0    3977\n1    3066\nName: AutoPay, dtype: int64"
     },
     "execution_count": 40,
     "metadata": {},
     "output_type": "execute_result"
    }
   ],
   "source": [
    "# One implied feature from the data is automatic payment enabled, so lets make that a column on the data\n",
    "data['AutoPay'] = data['PaymentMethod'].copy()\n",
    "data['AutoPay'] = data['AutoPay'].replace([0, 1], 0)\n",
    "data['AutoPay'] = data['AutoPay'].replace([2, 3], 1)\n",
    "data['AutoPay'].value_counts()\n"
   ],
   "metadata": {
    "collapsed": false,
    "pycharm": {
     "name": "#%%\n"
    }
   }
  },
  {
   "cell_type": "code",
   "execution_count": 41,
   "outputs": [
    {
     "data": {
      "text/plain": "<AxesSubplot:>"
     },
     "execution_count": 41,
     "metadata": {},
     "output_type": "execute_result"
    },
    {
     "data": {
      "text/plain": "<Figure size 432x288 with 2 Axes>",
      "image/png": "[encoded data removed]"
     },
     "metadata": {
      "needs_background": "light"
     },
     "output_type": "display_data"
    }
   ],
   "source": [
    "sns.heatmap(data.corr())"
   ],
   "metadata": {
    "collapsed": false,
    "pycharm": {
     "name": "#%%\n"
    }
   }
  },
  {
   "cell_type": "code",
   "execution_count": 42,
   "outputs": [],
   "source": [
    "data['AverageMonthly'] = data['TotalCharges'] / data['tenure']\n",
    "data['CurrentMonthly/Average'] = (data['MonthlyCharges'] - data['AverageMonthly'])*100\n"
   ],
   "metadata": {
    "collapsed": false,
    "pycharm": {
     "name": "#%%\n"
    }
   }
  },
  {
   "cell_type": "code",
   "execution_count": 43,
   "outputs": [
    {
     "data": {
      "text/plain": "<AxesSubplot:>"
     },
     "execution_count": 43,
     "metadata": {},
     "output_type": "execute_result"
    },
    {
     "data": {
      "text/plain": "<Figure size 432x288 with 2 Axes>",
      "image/png": "[encoded data removed]"
     },
     "metadata": {
      "needs_background": "light"
     },
     "output_type": "display_data"
    }
   ],
   "source": [
    "sns.heatmap(data.corr())"
   ],
   "metadata": {
    "collapsed": false,
    "pycharm": {
     "name": "#%%\n"
    }
   }
  },
  {
   "cell_type": "code",
   "execution_count": 44,
   "outputs": [
    {
     "data": {
      "text/plain": "            tenure  PhoneService  Contract  PaymentMethod  MonthlyCharges  \\\ncustomerID                                                                  \n7590-VHVEG       1             0         0              0           29.85   \n5575-GNVDE      34             1         1              1           56.95   \n3668-QPYBK       2             1         0              1           53.85   \n7795-CFOCW      45             0         1              2           42.30   \n9237-HQITU       2             1         0              0           70.70   \n...            ...           ...       ...            ...             ...   \n6840-RESVB      24             1         1              1           84.80   \n2234-XADUH      72             1         1              3          103.20   \n4801-JZAZL      11             0         0              0           29.60   \n8361-LTMKD       4             1         0              1           74.40   \n3186-AJIEK      66             1         2              2          105.65   \n\n            TotalCharges  Churn  AutoPay  AverageMonthly  \ncustomerID                                                \n7590-VHVEG         29.85      0        0       29.850000  \n5575-GNVDE       1889.50      0        0       55.573529  \n3668-QPYBK        108.15      1        0       54.075000  \n7795-CFOCW       1840.75      0        1       40.905556  \n9237-HQITU        151.65      1        0       75.825000  \n...                  ...    ...      ...             ...  \n6840-RESVB       1990.50      0        0       82.937500  \n2234-XADUH       7362.90      0        1      102.262500  \n4801-JZAZL        346.45      0        0       31.495455  \n8361-LTMKD        306.60      1        0       76.650000  \n3186-AJIEK       6844.50      0        1      103.704545  \n\n[7043 rows x 9 columns]",
      "text/html": "<div>\n<style scoped>\n    .dataframe tbody tr th:only-of-type {\n        vertical-align: middle;\n    }\n\n    .dataframe tbody tr th {\n        vertical-align: top;\n    }\n\n    .dataframe thead th {\n        text-align: right;\n    }\n</style>\n<table border=\"1\" class=\"dataframe\">\n  <thead>\n    <tr style=\"text-align: right;\">\n      <th></th>\n      <th>tenure</th>\n      <th>PhoneService</th>\n      <th>Contract</th>\n      <th>PaymentMethod</th>\n      <th>MonthlyCharges</th>\n      <th>TotalCharges</th>\n      <th>Churn</th>\n      <th>AutoPay</th>\n      <th>AverageMonthly</th>\n    </tr>\n    <tr>\n      <th>customerID</th>\n      <th></th>\n      <th></th>\n      <th></th>\n      <th></th>\n      <th></th>\n      <th></th>\n      <th></th>\n      <th></th>\n      <th></th>\n    </tr>\n  </thead>\n  <tbody>\n    <tr>\n      <th>7590-VHVEG</th>\n      <td>1</td>\n      <td>0</td>\n      <td>0</td>\n      <td>0</td>\n      <td>29.85</td>\n      <td>29.85</td>\n      <td>0</td>\n      <td>0</td>\n      <td>29.850000</td>\n    </tr>\n    <tr>\n      <th>5575-GNVDE</th>\n      <td>34</td>\n      <td>1</td>\n      <td>1</td>\n      <td>1</td>\n      <td>56.95</td>\n      <td>1889.50</td>\n      <td>0</td>\n      <td>0</td>\n      <td>55.573529</td>\n    </tr>\n    <tr>\n      <th>3668-QPYBK</th>\n      <td>2</td>\n      <td>1</td>\n      <td>0</td>\n      <td>1</td>\n      <td>53.85</td>\n      <td>108.15</td>\n      <td>1</td>\n      <td>0</td>\n      <td>54.075000</td>\n    </tr>\n    <tr>\n      <th>7795-CFOCW</th>\n      <td>45</td>\n      <td>0</td>\n      <td>1</td>\n      <td>2</td>\n      <td>42.30</td>\n      <td>1840.75</td>\n      <td>0</td>\n      <td>1</td>\n      <td>40.905556</td>\n    </tr>\n    <tr>\n      <th>9237-HQITU</th>\n      <td>2</td>\n      <td>1</td>\n      <td>0</td>\n      <td>0</td>\n      <td>70.70</td>\n      <td>151.65</td>\n      <td>1</td>\n      <td>0</td>\n      <td>75.825000</td>\n    </tr>\n    <tr>\n      <th>...</th>\n      <td>...</td>\n      <td>...</td>\n      <td>...</td>\n      <td>...</td>\n      <td>...</td>\n      <td>...</td>\n      <td>...</td>\n      <td>...</td>\n      <td>...</td>\n    </tr>\n    <tr>\n      <th>6840-RESVB</th>\n      <td>24</td>\n      <td>1</td>\n      <td>1</td>\n      <td>1</td>\n      <td>84.80</td>\n      <td>1990.50</td>\n      <td>0</td>\n      <td>0</td>\n      <td>82.937500</td>\n    </tr>\n    <tr>\n      <th>2234-XADUH</th>\n      <td>72</td>\n      <td>1</td>\n      <td>1</td>\n      <td>3</td>\n      <td>103.20</td>\n      <td>7362.90</td>\n      <td>0</td>\n      <td>1</td>\n      <td>102.262500</td>\n    </tr>\n    <tr>\n      <th>4801-JZAZL</th>\n      <td>11</td>\n      <td>0</td>\n      <td>0</td>\n      <td>0</td>\n      <td>29.60</td>\n      <td>346.45</td>\n      <td>0</td>\n      <td>0</td>\n      <td>31.495455</td>\n    </tr>\n    <tr>\n      <th>8361-LTMKD</th>\n      <td>4</td>\n      <td>1</td>\n      <td>0</td>\n      <td>1</td>\n      <td>74.40</td>\n      <td>306.60</td>\n      <td>1</td>\n      <td>0</td>\n      <td>76.650000</td>\n    </tr>\n    <tr>\n      <th>3186-AJIEK</th>\n      <td>66</td>\n      <td>1</td>\n      <td>2</td>\n      <td>2</td>\n      <td>105.65</td>\n      <td>6844.50</td>\n      <td>0</td>\n      <td>1</td>\n      <td>103.704545</td>\n    </tr>\n  </tbody>\n</table>\n<p>7043 rows × 9 columns</p>\n</div>"
     },
     "execution_count": 44,
     "metadata": {},
     "output_type": "execute_result"
    }
   ],
   "source": [
    "# That feature seems completely unusable, so lets drop it\n",
    "data.drop('CurrentMonthly/Average', axis=1)"
   ],
   "metadata": {
    "collapsed": false,
    "pycharm": {
     "name": "#%%\n"
    }
   }
  },
  {
   "cell_type": "code",
   "execution_count": 45,
   "outputs": [],
   "source": [
    " # Export cleaned data to csv\n",
    "data.to_csv('prepped_churn_data.csv')"
   ],
   "metadata": {
    "collapsed": false,
    "pycharm": {
     "name": "#%%\n"
    }
   }
  },
  {
   "cell_type": "markdown",
   "source": [
    "### Summary\n",
    "\n",
    "Doing further analysis on the churn data this week was a lot of fun.  We started off with looking at the shapes of the distributions that our numeric features were showing when plotted.  This showed that the majority of our numeric data was not normally distributed and also seemed to lack outliers.  We tested using the IQR and by seeing the data points under the first three standard deviations.  Additionally we practiced removing na's through two methods.  The first being that we drop the affected observations which would have resulted in the loss of 11 observations specific statistical description of the change available above, as the second was filling the na's with the median value of the feature.  Both had and effect and ultimately I decided to proceed with the data that had been filled in with the median for my first prepared dataset.\n",
    "\n",
    "Once the na's and outliers had been dealt with the next course of action was to see if there were features that could be engineered to provide more insight into the data.  I went back to my week one analysis and decided to create a new feature that was whether or not the customer was on auto-pay.  This was engineered from the PaymentMethods feature and showed a good negative correlation to Churn, so it will be kept.  The second feature we explored was a possible disconnect between the current monthly charges when compared to the average monthly charges over the customers tenure.  Unfortunately that feature appeared to have no correlation with any other features and was subsequently dropped from the prepared data for next week."
   ],
   "metadata": {
    "collapsed": false
   }
  }
 ],
 "metadata": {
  "kernelspec": {
   "display_name": "Python 3",
   "language": "python",
   "name": "python3"
  },
  "language_info": {
   "codemirror_mode": {
    "name": "ipython",
    "version": 3
   },
   "file_extension": ".py",
   "mimetype": "text/x-python",
   "name": "python",
   "nbconvert_exporter": "python",
   "pygments_lexer": "ipython3",
   "version": "3.8.8"
  }
 },
 "nbformat": 4,
 "nbformat_minor": 4
}